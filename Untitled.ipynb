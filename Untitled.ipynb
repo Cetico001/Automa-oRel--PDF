{
 "cells": [
  {
   "cell_type": "code",
   "execution_count": null,
   "id": "11366e6c",
   "metadata": {},
   "outputs": [],
   "source": [
    "import win32com.client\n",
    "import os\n",
    "from datetime import datetime\n",
    "\n",
    "#Caminho da pasta PDF a ser criada\n",
    "nova_pasta = r'DIR'\n",
    "\n",
    "# Verificar se a pasta não existe antes de criá-la\n",
    "if not os.path.exists(nova_pasta):\n",
    "    os.makedirs(nova_pasta)\n",
    "    print(f\"Pasta '{nova_pasta}' criada com sucesso.\")\n",
    "else:\n",
    "    print(f\"A pasta '{nova_pasta}' já existe.\")\n",
    "    \n",
    "# Inicie o Excel\n",
    "Excel = win32com.client.Dispatch(\"Excel.Application\")\n",
    "\n",
    "# Abra o workbook\n",
    "#Workbook = Excel.ActiveWorkbook\n",
    "Workbook = Excel.Workbooks.Open(r'DIR\\EXCEL.xlsx')\n",
    "\n",
    "# Selecione a planilha\n",
    "Worksheet = Workbook.Worksheets[0]\n",
    "\n",
    "#Achando o número de linhas da aba dos carros\n",
    "wb = Workbook\n",
    "ws = Workbook.Worksheets[2]\n",
    "used = ws.UsedRange\n",
    "valorf = int(used.Row + used.Rows.Count - 8)\n",
    "\n",
    "pdfs=0\n",
    "# Para cada valor no arquivo de texto\n",
    "for valor in range(4, valorf):\n",
    "    #Ler a linha da terceira aba da planilha célula C4 até a última linha\n",
    "    valores = str(Workbook.Worksheets[2].Range(\"C\" + str(valor)).Value)\n",
    "    valores=valores.split('.')[0]\n",
    "    Worksheet.Range(\"D9\").Value = valores\n",
    "    dat = Worksheet.Range(\"E47\").Value\n",
    "    dat = str(dat)\n",
    "    datapag = dat.split(' ')[0]\n",
    "    if valores==0 or valores=='None':\n",
    "        print(\"Erro\")\n",
    "    else:\n",
    "        pdfs=pdfs+1\n",
    "        # Selecione o intervalo e salve como PDF\n",
    "        range = Worksheet.Range(\"B1:N121\")\n",
    "        range.ExportAsFixedFormat(0, r'DIR\\DEM-' + datapag + '-' + str(valores) + '.pdf')\n",
    "\n",
    "# Salve e feche o workbook\n",
    "Workbook.Save()\n",
    "Workbook.Close()\n",
    "\n",
    "print(str(pdfs)+\" pdfs concluidos\")\n",
    "\n",
    "\n"
   ]
  }
 ],
 "metadata": {
  "kernelspec": {
   "display_name": "Python 3 (ipykernel)",
   "language": "python",
   "name": "python3"
  },
  "language_info": {
   "codemirror_mode": {
    "name": "ipython",
    "version": 3
   },
   "file_extension": ".py",
   "mimetype": "text/x-python",
   "name": "python",
   "nbconvert_exporter": "python",
   "pygments_lexer": "ipython3",
   "version": "3.11.5"
  }
 },
 "nbformat": 4,
 "nbformat_minor": 5
}
