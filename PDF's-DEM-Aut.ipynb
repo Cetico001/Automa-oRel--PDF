import win32com.client
import os
from datetime import datetime

#Caminho da pasta PDF a ser criada
nova_pasta = r'C:\Users\Desktop\Automação Demonstrativo\PDF'

# Verificar se a pasta não existe antes de criá-la
if not os.path.exists(nova_pasta):
    os.makedirs(nova_pasta)
    print(f"Pasta '{nova_pasta}' criada com sucesso.")
else:
    print(f"A pasta '{nova_pasta}' já existe.")
    
# Inicie o Excel
Excel = win32com.client.Dispatch("Excel.Application")

# Abra o workbook
#Pode usar tanto o Excel.ActiveWorkbook quanto o caminho da pasta do Excel, o ActiveWorkbook deve estar com o excel aberto em questão
#Workbook = Excel.ActiveWorkbook
Workbook = Excel.Workbooks.Open(r'C:\Users\Desktop\Automação Demonstrativo\DEM.xlsx')

# Selecione a planilha
Worksheet = Workbook.Worksheets[0]

#Achando o número de linhas da aba dos carros
wb = Workbook
ws = Workbook.Worksheets[2]
used = ws.UsedRange
valorf = int(used.Row + used.Rows.Count - 8)

pdfs=0
# Para cada valor no arquivo de texto
for valor in range(4, valorf):
    #Ler a linha da terceira aba da planilha célula C4 até a última linha
    valores = str(Workbook.Worksheets[2].Range("C" + str(valor)).Value)
    valores=valores.split('.')[0]
    Worksheet.Range("D9").Value = valores
    dat = Worksheet.Range("E47").Value
    dat = str(dat)
    datapag = dat.split(' ')[0]
    if valores==0 or valores=='None':
        print("Erro")
    else:
        pdfs=pdfs+1
        # Selecione o intervalo e salve como PDF
        range = Worksheet.Range("B1:N121")
        range.ExportAsFixedFormat(0, r'C:\Users\Desktop\Automação Demonstrativo\PDF\DEM-' + datapag + '-' + str(valores) + '.pdf')

# Salve e feche o workbook
Workbook.Save()
Workbook.Close()

print(str(pdfs)+" pdfs concluidos")


